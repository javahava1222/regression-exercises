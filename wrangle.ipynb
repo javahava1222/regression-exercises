{
 "cells": [
  {
   "cell_type": "code",
   "execution_count": 6,
   "metadata": {},
   "outputs": [],
   "source": [
    "import warnings\n",
    "warnings.filterwarnings(\"ignore\")\n",
    "\n",
    "import pandas as pd\n",
    "import matplotlib.pyplot as plt\n",
    "import seaborn as sns\n",
    "import numpy as np\n",
    "from env import get_db_url"
   ]
  },
  {
   "cell_type": "markdown",
   "metadata": {},
   "source": [
    "Let's set up an example scenario as perspective for our regression exercises using the Zillow dataset.\n",
    "\n",
    "As a Codeup data science graduate, you want to show off your skills to the Zillow data science team in hopes of getting an interview for a position you saw pop up on LinkedIn. You thought it might look impressive to build an end-to-end project in which you use some of their Kaggle data to predict property values using some of their available features; who knows, you might even do some feature engineering to blow them away. Your goal is to predict the values of single unit properties using the obervations from 2017.\n"
   ]
  },
  {
   "cell_type": "markdown",
   "metadata": {},
   "source": [
    "\n",
    "In these exercises, you will complete the first step toward the above goal: \n",
    "acquire and prepare the necessary Zillow data from the zillow database in the Codeup database server.\n",
    "\n",
    "Acquire bedroomcnt, bathroomcnt, calculatedfinishedsquarefeet, taxvaluedollarcnt, yearbuilt, taxamount, and fips \n",
    " from the zillow database for all 'Single Family Residential' properties."
   ]
  },
  {
   "cell_type": "code",
   "execution_count": 7,
   "metadata": {},
   "outputs": [],
   "source": [
    "url = get_db_url('zillow')\n",
    "query = '''\n",
    "            \n",
    "SELECT bedroomcnt, bathroomcnt, calculatedfinishedsquarefeet, taxvaluedollarcnt, yearbuilt, taxamount, fips\n",
    "FROM properties_2017\n",
    "LEFT JOIN propertylandusetype USING(propertylandusetypeid)\n",
    "WHERE propertylandusedesc IN (\"Single Family Residential\",                       \n",
    "                              \"Inferred Single Family Residential\")'''\n"
   ]
  },
  {
   "cell_type": "code",
   "execution_count": 8,
   "metadata": {},
   "outputs": [
    {
     "data": {
      "text/html": [
       "<div>\n",
       "<style scoped>\n",
       "    .dataframe tbody tr th:only-of-type {\n",
       "        vertical-align: middle;\n",
       "    }\n",
       "\n",
       "    .dataframe tbody tr th {\n",
       "        vertical-align: top;\n",
       "    }\n",
       "\n",
       "    .dataframe thead th {\n",
       "        text-align: right;\n",
       "    }\n",
       "</style>\n",
       "<table border=\"1\" class=\"dataframe\">\n",
       "  <thead>\n",
       "    <tr style=\"text-align: right;\">\n",
       "      <th></th>\n",
       "      <th>bedroomcnt</th>\n",
       "      <th>bathroomcnt</th>\n",
       "      <th>calculatedfinishedsquarefeet</th>\n",
       "      <th>taxvaluedollarcnt</th>\n",
       "      <th>yearbuilt</th>\n",
       "      <th>taxamount</th>\n",
       "      <th>fips</th>\n",
       "    </tr>\n",
       "  </thead>\n",
       "  <tbody>\n",
       "    <tr>\n",
       "      <th>0</th>\n",
       "      <td>0.0</td>\n",
       "      <td>0.0</td>\n",
       "      <td>NaN</td>\n",
       "      <td>27516.0</td>\n",
       "      <td>NaN</td>\n",
       "      <td>NaN</td>\n",
       "      <td>6037.0</td>\n",
       "    </tr>\n",
       "    <tr>\n",
       "      <th>1</th>\n",
       "      <td>0.0</td>\n",
       "      <td>0.0</td>\n",
       "      <td>NaN</td>\n",
       "      <td>10.0</td>\n",
       "      <td>NaN</td>\n",
       "      <td>NaN</td>\n",
       "      <td>6037.0</td>\n",
       "    </tr>\n",
       "    <tr>\n",
       "      <th>2</th>\n",
       "      <td>0.0</td>\n",
       "      <td>0.0</td>\n",
       "      <td>NaN</td>\n",
       "      <td>10.0</td>\n",
       "      <td>NaN</td>\n",
       "      <td>NaN</td>\n",
       "      <td>6037.0</td>\n",
       "    </tr>\n",
       "    <tr>\n",
       "      <th>3</th>\n",
       "      <td>0.0</td>\n",
       "      <td>0.0</td>\n",
       "      <td>NaN</td>\n",
       "      <td>2108.0</td>\n",
       "      <td>NaN</td>\n",
       "      <td>174.21</td>\n",
       "      <td>6037.0</td>\n",
       "    </tr>\n",
       "    <tr>\n",
       "      <th>4</th>\n",
       "      <td>4.0</td>\n",
       "      <td>2.0</td>\n",
       "      <td>3633.0</td>\n",
       "      <td>296425.0</td>\n",
       "      <td>2005.0</td>\n",
       "      <td>6941.39</td>\n",
       "      <td>6037.0</td>\n",
       "    </tr>\n",
       "  </tbody>\n",
       "</table>\n",
       "</div>"
      ],
      "text/plain": [
       "   bedroomcnt  bathroomcnt  calculatedfinishedsquarefeet  taxvaluedollarcnt  \\\n",
       "0         0.0          0.0                           NaN            27516.0   \n",
       "1         0.0          0.0                           NaN               10.0   \n",
       "2         0.0          0.0                           NaN               10.0   \n",
       "3         0.0          0.0                           NaN             2108.0   \n",
       "4         4.0          2.0                        3633.0           296425.0   \n",
       "\n",
       "   yearbuilt  taxamount    fips  \n",
       "0        NaN        NaN  6037.0  \n",
       "1        NaN        NaN  6037.0  \n",
       "2        NaN        NaN  6037.0  \n",
       "3        NaN     174.21  6037.0  \n",
       "4     2005.0    6941.39  6037.0  "
      ]
     },
     "execution_count": 8,
     "metadata": {},
     "output_type": "execute_result"
    }
   ],
   "source": [
    "df = pd.read_sql(query, url)\n",
    "df.head()"
   ]
  },
  {
   "cell_type": "markdown",
   "metadata": {},
   "source": [
    " Using your acquired Zillow data, walk through the summarization and cleaning steps in your wrangle.ipynb file like we did above.\n",
    "  You may handle the missing values however you feel is appropriate and meaninful; remember to document your process and decisions\n",
    "  using markdown and code commenting where helpful"
   ]
  },
  {
   "cell_type": "code",
   "execution_count": 9,
   "metadata": {},
   "outputs": [],
   "source": [
    "df = df.copy()\n",
    "df = df.rename(columns = {'bedroomcnt':'bedrooms', \n",
    "                          'bathroomcnt':'bathrooms', \n",
    "                          'calculatedfinishedsquarefeet':'square_ft_area',\n",
    "                          'taxvaluedollarcnt':'tax_value', \n",
    "                          'yearbuilt':'year_built',\n",
    "                          'taxamount': 'tax_amount'})"
   ]
  },
  {
   "cell_type": "code",
   "execution_count": 10,
   "metadata": {},
   "outputs": [
    {
     "name": "stdout",
     "output_type": "stream",
     "text": [
      "<class 'pandas.core.frame.DataFrame'>\n",
      "RangeIndex: 2152864 entries, 0 to 2152863\n",
      "Data columns (total 7 columns):\n",
      " #   Column          Non-Null Count    Dtype  \n",
      "---  ------          --------------    -----  \n",
      " 0   bedrooms        2152853 non-null  float64\n",
      " 1   bathrooms       2152853 non-null  float64\n",
      " 2   square_ft_area  2144379 non-null  float64\n",
      " 3   tax_value       2152371 non-null  float64\n",
      " 4   year_built      2143526 non-null  float64\n",
      " 5   tax_amount      2148422 non-null  float64\n",
      " 6   fips            2152864 non-null  float64\n",
      "dtypes: float64(7)\n",
      "memory usage: 115.0 MB\n"
     ]
    }
   ],
   "source": [
    "df.info(null_counts=True)"
   ]
  },
  {
   "cell_type": "code",
   "execution_count": 11,
   "metadata": {},
   "outputs": [
    {
     "data": {
      "text/plain": [
       "bedrooms            11\n",
       "bathrooms           11\n",
       "square_ft_area    8485\n",
       "tax_value          493\n",
       "year_built        9338\n",
       "tax_amount        4442\n",
       "fips                 0\n",
       "dtype: int64"
      ]
     },
     "execution_count": 11,
     "metadata": {},
     "output_type": "execute_result"
    }
   ],
   "source": [
    "df.isnull().sum()"
   ]
  },
  {
   "cell_type": "code",
   "execution_count": 12,
   "metadata": {},
   "outputs": [
    {
     "data": {
      "image/png": "[encoded data removed]",
      "text/plain": [
       "<Figure size 1440x216 with 7 Axes>"
      ]
     },
     "metadata": {
      "needs_background": "light"
     },
     "output_type": "display_data"
    }
   ],
   "source": [
    "# Visualizing Distribution of Variables\n",
    "#histograms\n",
    "plt.figure(figsize=(20, 3))\n",
    "\n",
    "cols = [col for col in df.columns]\n",
    "\n",
    "for i, col in enumerate(cols):\n",
    "\n",
    "    plot_number = i + 1 \n",
    "    plt.subplot(1,7, plot_number)\n",
    "    plt.title(col)\n",
    "    df[col].hist(bins=5)\n",
    "    #turning off scientific notation\n",
    "    plt.ticklabel_format(useOffset=False)\n",
    "    \n",
    "plt.show()"
   ]
  },
  {
   "cell_type": "code",
   "execution_count": 13,
   "metadata": {},
   "outputs": [
    {
     "data": {
      "image/png": "[encoded data removed]",
      "text/plain": [
       "<Figure size 1080x288 with 1 Axes>"
      ]
     },
     "metadata": {
      "needs_background": "light"
     },
     "output_type": "display_data"
    }
   ],
   "source": [
    "#boxplots\n",
    "#show outliers\n",
    "plt.figure(figsize=(15,4))\n",
    "\n",
    "plt.ticklabel_format(useOffset=False, style='plain')\n",
    "sns.boxplot(data=df)\n",
    "\n",
    "plt.show()\n"
   ]
  },
  {
   "cell_type": "code",
   "execution_count": 14,
   "metadata": {},
   "outputs": [
    {
     "data": {
      "image/png": "[encoded data removed]",
      "text/plain": [
       "<Figure size 1440x288 with 1 Axes>"
      ]
     },
     "metadata": {
      "needs_background": "light"
     },
     "output_type": "display_data"
    }
   ],
   "source": [
    "plt.figure(figsize=(20,4))\n",
    "\n",
    "plt.ticklabel_format(useOffset=False, style='plain')\n",
    "sns.boxplot(data=df)\n",
    "\n",
    "plt.show()\n",
    "\n",
    "# tax_value has a big outlier, making it difficult to observe other variables' outliers."
   ]
  },
  {
   "cell_type": "code",
   "execution_count": 15,
   "metadata": {},
   "outputs": [
    {
     "data": {
      "image/png": "[encoded data removed]",
      "text/plain": [
       "<Figure size 1440x720 with 7 Axes>"
      ]
     },
     "metadata": {
      "needs_background": "light"
     },
     "output_type": "display_data"
    }
   ],
   "source": [
    "plt.figure(figsize=(20, 10))\n",
    "for i, col in enumerate(df.columns):\n",
    "    plot_number = i + 1 \n",
    "    plt.subplot(1, 7, plot_number)\n",
    "    plt.title(col)\n",
    "    sns.boxplot(data=df[col])\n",
    "    plt.grid(False)\n",
    "\n",
    "plt.show()"
   ]
  },
  {
   "cell_type": "code",
   "execution_count": 16,
   "metadata": {},
   "outputs": [],
   "source": [
    "def remove_outliers(df, k, col_list):\n",
    "\n",
    "    for col in col_list:\n",
    "\n",
    "        q1, q3 = df[col].quantile([.25, .75]) \n",
    "        \n",
    "        iqr = q3 - q1\n",
    "        \n",
    "        upper_bound = q3 + k * iqr  \n",
    "        lower_bound = q1 - k * iqr  \n",
    "\n",
    "        df = df[(df[col] > lower_bound) & (df[col] < upper_bound)]\n",
    "        \n",
    "    return df"
   ]
  },
  {
   "cell_type": "code",
   "execution_count": null,
   "metadata": {},
   "outputs": [],
   "source": [
    "#alternative way to remove outliers\n",
    "def remove_outliers1(df, k, col_list):\n",
    "\n",
    "    num_obs = df.shape[0]\n",
    "    df['outlier'] = False\n",
    "    for col in col_list:\n",
    "\n",
    "        q1, q3 = df[col].quantile([.25, .75]) \n",
    "        \n",
    "        iqr = q3 - q1  \n",
    "        \n",
    "        upper_bound = q3 + k * iqr \n",
    "        lower_bound = q1 - k * iqr  \n",
    "\n",
    "        df['outlier'] = np.where(((df[col] < lower_bound) | (df[col] > upper_bound)) & (df.outlier == False), True, df.outlier)\n",
    "    \n",
    "    df = df[df.outlier == False]\n",
    "    df.drop(columns=['outlier'], inplace=True)\n",
    "    print(f\"Number of observations removed: {num_obs - df.shape[0]}\")\n",
    "        \n",
    "    return df"
   ]
  },
  {
   "cell_type": "code",
   "execution_count": 18,
   "metadata": {},
   "outputs": [
    {
     "data": {
      "text/html": [
       "<div>\n",
       "<style scoped>\n",
       "    .dataframe tbody tr th:only-of-type {\n",
       "        vertical-align: middle;\n",
       "    }\n",
       "\n",
       "    .dataframe tbody tr th {\n",
       "        vertical-align: top;\n",
       "    }\n",
       "\n",
       "    .dataframe thead th {\n",
       "        text-align: right;\n",
       "    }\n",
       "</style>\n",
       "<table border=\"1\" class=\"dataframe\">\n",
       "  <thead>\n",
       "    <tr style=\"text-align: right;\">\n",
       "      <th></th>\n",
       "      <th>bedrooms</th>\n",
       "      <th>bathrooms</th>\n",
       "      <th>square_ft_area</th>\n",
       "      <th>tax_value</th>\n",
       "      <th>year_built</th>\n",
       "      <th>tax_amount</th>\n",
       "      <th>fips</th>\n",
       "    </tr>\n",
       "  </thead>\n",
       "  <tbody>\n",
       "    <tr>\n",
       "      <th>6</th>\n",
       "      <td>3.0</td>\n",
       "      <td>4.0</td>\n",
       "      <td>1620.0</td>\n",
       "      <td>847770.0</td>\n",
       "      <td>2011.0</td>\n",
       "      <td>10244.94</td>\n",
       "      <td>6037.0</td>\n",
       "    </tr>\n",
       "    <tr>\n",
       "      <th>7</th>\n",
       "      <td>3.0</td>\n",
       "      <td>2.0</td>\n",
       "      <td>2077.0</td>\n",
       "      <td>646760.0</td>\n",
       "      <td>1926.0</td>\n",
       "      <td>7924.68</td>\n",
       "      <td>6037.0</td>\n",
       "    </tr>\n",
       "    <tr>\n",
       "      <th>18</th>\n",
       "      <td>3.0</td>\n",
       "      <td>1.0</td>\n",
       "      <td>1244.0</td>\n",
       "      <td>169471.0</td>\n",
       "      <td>1950.0</td>\n",
       "      <td>2532.88</td>\n",
       "      <td>6037.0</td>\n",
       "    </tr>\n",
       "    <tr>\n",
       "      <th>19</th>\n",
       "      <td>3.0</td>\n",
       "      <td>2.0</td>\n",
       "      <td>1300.0</td>\n",
       "      <td>233266.0</td>\n",
       "      <td>1950.0</td>\n",
       "      <td>3110.99</td>\n",
       "      <td>6037.0</td>\n",
       "    </tr>\n",
       "    <tr>\n",
       "      <th>20</th>\n",
       "      <td>3.0</td>\n",
       "      <td>2.0</td>\n",
       "      <td>1222.0</td>\n",
       "      <td>290492.0</td>\n",
       "      <td>1951.0</td>\n",
       "      <td>3870.25</td>\n",
       "      <td>6037.0</td>\n",
       "    </tr>\n",
       "    <tr>\n",
       "      <th>...</th>\n",
       "      <td>...</td>\n",
       "      <td>...</td>\n",
       "      <td>...</td>\n",
       "      <td>...</td>\n",
       "      <td>...</td>\n",
       "      <td>...</td>\n",
       "      <td>...</td>\n",
       "    </tr>\n",
       "    <tr>\n",
       "      <th>2152853</th>\n",
       "      <td>3.0</td>\n",
       "      <td>2.0</td>\n",
       "      <td>1917.0</td>\n",
       "      <td>408680.0</td>\n",
       "      <td>1946.0</td>\n",
       "      <td>4341.32</td>\n",
       "      <td>6111.0</td>\n",
       "    </tr>\n",
       "    <tr>\n",
       "      <th>2152854</th>\n",
       "      <td>4.0</td>\n",
       "      <td>2.0</td>\n",
       "      <td>1987.0</td>\n",
       "      <td>259913.0</td>\n",
       "      <td>1955.0</td>\n",
       "      <td>3175.66</td>\n",
       "      <td>6059.0</td>\n",
       "    </tr>\n",
       "    <tr>\n",
       "      <th>2152856</th>\n",
       "      <td>3.0</td>\n",
       "      <td>2.5</td>\n",
       "      <td>1809.0</td>\n",
       "      <td>405547.0</td>\n",
       "      <td>2012.0</td>\n",
       "      <td>4181.10</td>\n",
       "      <td>6059.0</td>\n",
       "    </tr>\n",
       "    <tr>\n",
       "      <th>2152862</th>\n",
       "      <td>3.0</td>\n",
       "      <td>2.5</td>\n",
       "      <td>1974.0</td>\n",
       "      <td>424353.0</td>\n",
       "      <td>2015.0</td>\n",
       "      <td>5302.70</td>\n",
       "      <td>6059.0</td>\n",
       "    </tr>\n",
       "    <tr>\n",
       "      <th>2152863</th>\n",
       "      <td>4.0</td>\n",
       "      <td>4.0</td>\n",
       "      <td>2110.0</td>\n",
       "      <td>554009.0</td>\n",
       "      <td>2014.0</td>\n",
       "      <td>6761.20</td>\n",
       "      <td>6037.0</td>\n",
       "    </tr>\n",
       "  </tbody>\n",
       "</table>\n",
       "<p>1855285 rows × 7 columns</p>\n",
       "</div>"
      ],
      "text/plain": [
       "         bedrooms  bathrooms  square_ft_area  tax_value  year_built  \\\n",
       "6             3.0        4.0          1620.0   847770.0      2011.0   \n",
       "7             3.0        2.0          2077.0   646760.0      1926.0   \n",
       "18            3.0        1.0          1244.0   169471.0      1950.0   \n",
       "19            3.0        2.0          1300.0   233266.0      1950.0   \n",
       "20            3.0        2.0          1222.0   290492.0      1951.0   \n",
       "...           ...        ...             ...        ...         ...   \n",
       "2152853       3.0        2.0          1917.0   408680.0      1946.0   \n",
       "2152854       4.0        2.0          1987.0   259913.0      1955.0   \n",
       "2152856       3.0        2.5          1809.0   405547.0      2012.0   \n",
       "2152862       3.0        2.5          1974.0   424353.0      2015.0   \n",
       "2152863       4.0        4.0          2110.0   554009.0      2014.0   \n",
       "\n",
       "         tax_amount    fips  \n",
       "6          10244.94  6037.0  \n",
       "7           7924.68  6037.0  \n",
       "18          2532.88  6037.0  \n",
       "19          3110.99  6037.0  \n",
       "20          3870.25  6037.0  \n",
       "...             ...     ...  \n",
       "2152853     4341.32  6111.0  \n",
       "2152854     3175.66  6059.0  \n",
       "2152856     4181.10  6059.0  \n",
       "2152862     5302.70  6059.0  \n",
       "2152863     6761.20  6037.0  \n",
       "\n",
       "[1855285 rows x 7 columns]"
      ]
     },
     "execution_count": 18,
     "metadata": {},
     "output_type": "execute_result"
    }
   ],
   "source": [
    "df = remove_outliers(df, 1.5, ['bedrooms', 'bathrooms', 'square_ft_area', 'tax_value', 'tax_amount'])\n",
    "df"
   ]
  },
  {
   "cell_type": "code",
   "execution_count": 19,
   "metadata": {},
   "outputs": [
    {
     "data": {
      "image/png": "[encoded data removed]",
      "text/plain": [
       "<Figure size 1440x216 with 7 Axes>"
      ]
     },
     "metadata": {
      "needs_background": "light"
     },
     "output_type": "display_data"
    }
   ],
   "source": [
    "# Visualize the cleaned data\n",
    "plt.figure(figsize=(20, 3))\n",
    "\n",
    "cols = [col for col in df.columns]\n",
    "\n",
    "for i, col in enumerate(cols):\n",
    "\n",
    "    plot_number = i + 1 \n",
    "    plt.subplot(1,7, plot_number)\n",
    "    plt.title(col)\n",
    "    df[col].hist(bins=5)\n",
    "    #turning off scientific notation\n",
    "    plt.ticklabel_format(useOffset=False)\n",
    "    \n",
    "plt.show()"
   ]
  },
  {
   "cell_type": "code",
   "execution_count": 27,
   "metadata": {},
   "outputs": [
    {
     "data": {
      "image/png": "[encoded data removed]",
      "text/plain": [
       "<Figure size 1440x720 with 7 Axes>"
      ]
     },
     "metadata": {
      "needs_background": "light"
     },
     "output_type": "display_data"
    }
   ],
   "source": [
    "plt.figure(figsize=(20, 10))\n",
    "cols = [col for col in df.columns]\n",
    "\n",
    "for i, col in enumerate(cols):\n",
    "    plot_number = i + 1 \n",
    "    plt.subplot(1, len(cols), plot_number)\n",
    "    plt.title(col)\n",
    "    sns.boxplot(data=df[[col]])\n",
    "    plt.grid(False)\n",
    "    plt.tight_layout()\n",
    "\n",
    "plt.show()"
   ]
  },
  {
   "cell_type": "code",
   "execution_count": 29,
   "metadata": {},
   "outputs": [
    {
     "data": {
      "text/plain": [
       "bedrooms            0\n",
       "bathrooms           0\n",
       "square_ft_area      0\n",
       "tax_value           0\n",
       "year_built        874\n",
       "tax_amount          0\n",
       "fips                0\n",
       "dtype: int64"
      ]
     },
     "execution_count": 29,
     "metadata": {},
     "output_type": "execute_result"
    }
   ],
   "source": [
    "# Null Values\n",
    "df.isnull().sum()\n",
    "# year-built has null values."
   ]
  },
  {
   "cell_type": "code",
   "execution_count": 33,
   "metadata": {},
   "outputs": [
    {
     "data": {
      "text/plain": [
       "1955.0    80451\n",
       "1950.0    66876\n",
       "1954.0    65523\n",
       "1953.0    58746\n",
       "1956.0    58054\n",
       "          ...  \n",
       "1823.0        1\n",
       "1801.0        1\n",
       "1807.0        1\n",
       "1877.0        1\n",
       "1874.0        1\n",
       "Name: year_built, Length: 152, dtype: int64"
      ]
     },
     "execution_count": 33,
     "metadata": {},
     "output_type": "execute_result"
    }
   ],
   "source": [
    "df.year_built.value_counts()"
   ]
  },
  {
   "cell_type": "code",
   "execution_count": 34,
   "metadata": {},
   "outputs": [
    {
     "name": "stdout",
     "output_type": "stream",
     "text": [
      "<class 'pandas.core.frame.DataFrame'>\n",
      "Int64Index: 1855285 entries, 6 to 2152863\n",
      "Data columns (total 7 columns):\n",
      " #   Column          Dtype  \n",
      "---  ------          -----  \n",
      " 0   bedrooms        float64\n",
      " 1   bathrooms       float64\n",
      " 2   square_ft_area  float64\n",
      " 3   tax_value       float64\n",
      " 4   year_built      float64\n",
      " 5   tax_amount      float64\n",
      " 6   fips            float64\n",
      "dtypes: float64(7)\n",
      "memory usage: 113.2 MB\n"
     ]
    }
   ],
   "source": [
    "df.info()"
   ]
  },
  {
   "cell_type": "code",
   "execution_count": 37,
   "metadata": {},
   "outputs": [
    {
     "name": "stdout",
     "output_type": "stream",
     "text": [
      "BEDROOMS\n",
      "3.0    905249\n",
      "4.0    539886\n",
      "2.0    320685\n",
      "5.0     89465\n",
      "Name: bedrooms, dtype: int64\n",
      "BATHROOMS\n",
      "2.00    909673\n",
      "1.00    385962\n",
      "3.00    352086\n",
      "2.50    132451\n",
      "4.00     31976\n",
      "1.50     30752\n",
      "3.50     12382\n",
      "1.75         3\n",
      "Name: bathrooms, dtype: int64\n",
      "SQUARE_FT_AREA\n",
      "1200.0    5091\n",
      "1080.0    4318\n",
      "1120.0    4287\n",
      "1400.0    3776\n",
      "1440.0    3618\n",
      "          ... \n",
      "179.0        1\n",
      "489.0        1\n",
      "447.0        1\n",
      "32.0         1\n",
      "507.0        1\n",
      "Name: square_ft_area, Length: 3015, dtype: int64\n",
      "TAX_VALUE\n",
      "450000.0    806\n",
      "500000.0    754\n",
      "400000.0    701\n",
      "430000.0    677\n",
      "440000.0    671\n",
      "           ... \n",
      "877211.0      1\n",
      "375555.0      1\n",
      "340932.0      1\n",
      "425644.0      1\n",
      "773358.0      1\n",
      "Name: tax_value, Length: 457592, dtype: int64\n",
      "YEAR_BUILT\n",
      "1955.0    80451\n",
      "1950.0    66876\n",
      "1954.0    65523\n",
      "1953.0    58746\n",
      "1956.0    58054\n",
      "          ...  \n",
      "1823.0        1\n",
      "1801.0        1\n",
      "1807.0        1\n",
      "1877.0        1\n",
      "1874.0        1\n",
      "Name: year_built, Length: 152, dtype: int64\n",
      "TAX_AMOUNT\n",
      "345.72     164\n",
      "344.18      71\n",
      "343.52      65\n",
      "49.18       45\n",
      "388.18      36\n",
      "          ... \n",
      "5211.00      1\n",
      "4310.64      1\n",
      "7717.36      1\n",
      "6275.96      1\n",
      "8347.90      1\n",
      "Name: tax_amount, Length: 710276, dtype: int64\n",
      "FIPS\n",
      "6037.0    1241655\n",
      "6059.0     468335\n",
      "6111.0     145295\n",
      "Name: fips, dtype: int64\n"
     ]
    }
   ],
   "source": [
    "# change the data type\n",
    "cols = df.columns\n",
    "\n",
    "for col in cols:\n",
    "    \n",
    "    print(col.upper())\n",
    "    print(df[col].value_counts())"
   ]
  },
  {
   "cell_type": "code",
   "execution_count": 39,
   "metadata": {},
   "outputs": [
    {
     "name": "stdout",
     "output_type": "stream",
     "text": [
      "<class 'pandas.core.frame.DataFrame'>\n",
      "Int64Index: 1855285 entries, 6 to 2152863\n",
      "Data columns (total 7 columns):\n",
      " #   Column          Dtype  \n",
      "---  ------          -----  \n",
      " 0   bedrooms        float64\n",
      " 1   bathrooms       float64\n",
      " 2   square_ft_area  float64\n",
      " 3   tax_value       float64\n",
      " 4   year_built      object \n",
      " 5   tax_amount      float64\n",
      " 6   fips            object \n",
      "dtypes: float64(5), object(2)\n",
      "memory usage: 113.2+ MB\n"
     ]
    }
   ],
   "source": [
    "# turn year built and fips into object as they are categorical variable.\n",
    "df.fips = df.fips.astype(object)\n",
    "df.year_built = df.year_built.astype(object)\n",
    "df.info()"
   ]
  },
  {
   "cell_type": "code",
   "execution_count": 42,
   "metadata": {},
   "outputs": [],
   "source": [
    "from sklearn.model_selection import train_test_split\n",
    "from sklearn.impute import SimpleImputer\n",
    "\n",
    "train_validate, test = train_test_split(df, test_size=.2, random_state=123)\n",
    "train, validate = train_test_split(train_validate, test_size=.3, random_state=123)"
   ]
  },
  {
   "cell_type": "code",
   "execution_count": 43,
   "metadata": {},
   "outputs": [],
   "source": [
    "#impute year-built column's null values\n",
    "imputer = SimpleImputer(strategy='median')\n",
    "imputer.fit(train[['year_built']])\n",
    "\n",
    "train[['year_built']] = imputer.transform(train[['year_built']])\n",
    "validate[['year_built']] = imputer.transform(validate[['year_built']])\n",
    "test[['year_built']] = imputer.transform(test[['year_built']])"
   ]
  },
  {
   "cell_type": "code",
   "execution_count": 44,
   "metadata": {},
   "outputs": [
    {
     "data": {
      "text/plain": [
       "bedrooms          0\n",
       "bathrooms         0\n",
       "square_ft_area    0\n",
       "tax_value         0\n",
       "year_built        0\n",
       "tax_amount        0\n",
       "fips              0\n",
       "dtype: int64"
      ]
     },
     "execution_count": 44,
     "metadata": {},
     "output_type": "execute_result"
    }
   ],
   "source": [
    "# null values are gone\n",
    "train.isnull().sum()"
   ]
  },
  {
   "cell_type": "markdown",
   "metadata": {},
   "source": [
    " Store all of the necessary functions to automate your process from acquiring the data to returning a cleaned dataframe witn \n",
    " no missing values in your wrangle.py file. Name your final function wrangle_zillow."
   ]
  }
 ],
 "metadata": {
  "interpreter": {
   "hash": "38cca0c38332a56087b24af0bc80247f4fced29cb4f7f437d91dc159adec9c4e"
  },
  "kernelspec": {
   "display_name": "Python 3.9.7 ('base')",
   "language": "python",
   "name": "python3"
  },
  "language_info": {
   "codemirror_mode": {
    "name": "ipython",
    "version": 3
   },
   "file_extension": ".py",
   "mimetype": "text/x-python",
   "name": "python",
   "nbconvert_exporter": "python",
   "pygments_lexer": "ipython3",
   "version": "3.9.7"
  },
  "orig_nbformat": 4
 },
 "nbformat": 4,
 "nbformat_minor": 2
}

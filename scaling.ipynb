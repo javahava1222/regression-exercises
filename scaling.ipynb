{
 "cells": [
  {
   "cell_type": "markdown",
   "metadata": {},
   "source": [
    "Do your work for these exercises in a jupyter notebook named scaling. Use the zillow dataset you acquired and prepped in previous lesson. Once you are finished, you may wish to repeat the exercises on another dataset for additional practice.\n"
   ]
  },
  {
   "cell_type": "code",
   "execution_count": 9,
   "metadata": {},
   "outputs": [],
   "source": [
    "import pandas as pd\n",
    "import numpy as np\n",
    "import matplotlib.pyplot as plt\n",
    "import seaborn as sns\n",
    "\n",
    "from sklearn.preprocessing import MinMaxScaler, StandardScaler, RobustScaler, QuantileTransformer\n",
    "import warnings\n",
    "warnings.filterwarnings(\"ignore\")\n",
    "import wrangle"
   ]
  },
  {
   "cell_type": "code",
   "execution_count": 3,
   "metadata": {},
   "outputs": [],
   "source": [
    "df = wrangle.acquire_zillow()"
   ]
  },
  {
   "cell_type": "code",
   "execution_count": 4,
   "metadata": {},
   "outputs": [
    {
     "data": {
      "text/html": [
       "<div>\n",
       "<style scoped>\n",
       "    .dataframe tbody tr th:only-of-type {\n",
       "        vertical-align: middle;\n",
       "    }\n",
       "\n",
       "    .dataframe tbody tr th {\n",
       "        vertical-align: top;\n",
       "    }\n",
       "\n",
       "    .dataframe thead th {\n",
       "        text-align: right;\n",
       "    }\n",
       "</style>\n",
       "<table border=\"1\" class=\"dataframe\">\n",
       "  <thead>\n",
       "    <tr style=\"text-align: right;\">\n",
       "      <th></th>\n",
       "      <th>bedrooms</th>\n",
       "      <th>bathrooms</th>\n",
       "      <th>square_ft_area</th>\n",
       "      <th>tax_value</th>\n",
       "      <th>year_built</th>\n",
       "      <th>tax_amount</th>\n",
       "      <th>fips</th>\n",
       "    </tr>\n",
       "  </thead>\n",
       "  <tbody>\n",
       "    <tr>\n",
       "      <th>0</th>\n",
       "      <td>0.0</td>\n",
       "      <td>0.0</td>\n",
       "      <td>NaN</td>\n",
       "      <td>27516.0</td>\n",
       "      <td>NaN</td>\n",
       "      <td>NaN</td>\n",
       "      <td>6037.0</td>\n",
       "    </tr>\n",
       "    <tr>\n",
       "      <th>1</th>\n",
       "      <td>0.0</td>\n",
       "      <td>0.0</td>\n",
       "      <td>NaN</td>\n",
       "      <td>10.0</td>\n",
       "      <td>NaN</td>\n",
       "      <td>NaN</td>\n",
       "      <td>6037.0</td>\n",
       "    </tr>\n",
       "    <tr>\n",
       "      <th>2</th>\n",
       "      <td>0.0</td>\n",
       "      <td>0.0</td>\n",
       "      <td>NaN</td>\n",
       "      <td>10.0</td>\n",
       "      <td>NaN</td>\n",
       "      <td>NaN</td>\n",
       "      <td>6037.0</td>\n",
       "    </tr>\n",
       "    <tr>\n",
       "      <th>3</th>\n",
       "      <td>0.0</td>\n",
       "      <td>0.0</td>\n",
       "      <td>NaN</td>\n",
       "      <td>2108.0</td>\n",
       "      <td>NaN</td>\n",
       "      <td>174.21</td>\n",
       "      <td>6037.0</td>\n",
       "    </tr>\n",
       "    <tr>\n",
       "      <th>4</th>\n",
       "      <td>4.0</td>\n",
       "      <td>2.0</td>\n",
       "      <td>3633.0</td>\n",
       "      <td>296425.0</td>\n",
       "      <td>2005.0</td>\n",
       "      <td>6941.39</td>\n",
       "      <td>6037.0</td>\n",
       "    </tr>\n",
       "    <tr>\n",
       "      <th>...</th>\n",
       "      <td>...</td>\n",
       "      <td>...</td>\n",
       "      <td>...</td>\n",
       "      <td>...</td>\n",
       "      <td>...</td>\n",
       "      <td>...</td>\n",
       "      <td>...</td>\n",
       "    </tr>\n",
       "    <tr>\n",
       "      <th>2152859</th>\n",
       "      <td>4.0</td>\n",
       "      <td>3.0</td>\n",
       "      <td>2262.0</td>\n",
       "      <td>960756.0</td>\n",
       "      <td>2015.0</td>\n",
       "      <td>13494.52</td>\n",
       "      <td>6059.0</td>\n",
       "    </tr>\n",
       "    <tr>\n",
       "      <th>2152860</th>\n",
       "      <td>4.0</td>\n",
       "      <td>4.5</td>\n",
       "      <td>3127.0</td>\n",
       "      <td>536061.0</td>\n",
       "      <td>2014.0</td>\n",
       "      <td>6244.16</td>\n",
       "      <td>6059.0</td>\n",
       "    </tr>\n",
       "    <tr>\n",
       "      <th>2152861</th>\n",
       "      <td>0.0</td>\n",
       "      <td>0.0</td>\n",
       "      <td>NaN</td>\n",
       "      <td>208057.0</td>\n",
       "      <td>NaN</td>\n",
       "      <td>5783.88</td>\n",
       "      <td>6059.0</td>\n",
       "    </tr>\n",
       "    <tr>\n",
       "      <th>2152862</th>\n",
       "      <td>3.0</td>\n",
       "      <td>2.5</td>\n",
       "      <td>1974.0</td>\n",
       "      <td>424353.0</td>\n",
       "      <td>2015.0</td>\n",
       "      <td>5302.70</td>\n",
       "      <td>6059.0</td>\n",
       "    </tr>\n",
       "    <tr>\n",
       "      <th>2152863</th>\n",
       "      <td>4.0</td>\n",
       "      <td>4.0</td>\n",
       "      <td>2110.0</td>\n",
       "      <td>554009.0</td>\n",
       "      <td>2014.0</td>\n",
       "      <td>6761.20</td>\n",
       "      <td>6037.0</td>\n",
       "    </tr>\n",
       "  </tbody>\n",
       "</table>\n",
       "<p>2152864 rows × 7 columns</p>\n",
       "</div>"
      ],
      "text/plain": [
       "         bedrooms  bathrooms  square_ft_area  tax_value  year_built  \\\n",
       "0             0.0        0.0             NaN    27516.0         NaN   \n",
       "1             0.0        0.0             NaN       10.0         NaN   \n",
       "2             0.0        0.0             NaN       10.0         NaN   \n",
       "3             0.0        0.0             NaN     2108.0         NaN   \n",
       "4             4.0        2.0          3633.0   296425.0      2005.0   \n",
       "...           ...        ...             ...        ...         ...   \n",
       "2152859       4.0        3.0          2262.0   960756.0      2015.0   \n",
       "2152860       4.0        4.5          3127.0   536061.0      2014.0   \n",
       "2152861       0.0        0.0             NaN   208057.0         NaN   \n",
       "2152862       3.0        2.5          1974.0   424353.0      2015.0   \n",
       "2152863       4.0        4.0          2110.0   554009.0      2014.0   \n",
       "\n",
       "         tax_amount    fips  \n",
       "0               NaN  6037.0  \n",
       "1               NaN  6037.0  \n",
       "2               NaN  6037.0  \n",
       "3            174.21  6037.0  \n",
       "4           6941.39  6037.0  \n",
       "...             ...     ...  \n",
       "2152859    13494.52  6059.0  \n",
       "2152860     6244.16  6059.0  \n",
       "2152861     5783.88  6059.0  \n",
       "2152862     5302.70  6059.0  \n",
       "2152863     6761.20  6037.0  \n",
       "\n",
       "[2152864 rows x 7 columns]"
      ]
     },
     "execution_count": 4,
     "metadata": {},
     "output_type": "execute_result"
    }
   ],
   "source": [
    "df"
   ]
  },
  {
   "cell_type": "code",
   "execution_count": 10,
   "metadata": {},
   "outputs": [
    {
     "data": {
      "text/html": [
       "<div>\n",
       "<style scoped>\n",
       "    .dataframe tbody tr th:only-of-type {\n",
       "        vertical-align: middle;\n",
       "    }\n",
       "\n",
       "    .dataframe tbody tr th {\n",
       "        vertical-align: top;\n",
       "    }\n",
       "\n",
       "    .dataframe thead th {\n",
       "        text-align: right;\n",
       "    }\n",
       "</style>\n",
       "<table border=\"1\" class=\"dataframe\">\n",
       "  <thead>\n",
       "    <tr style=\"text-align: right;\">\n",
       "      <th></th>\n",
       "      <th>bedrooms</th>\n",
       "      <th>bathrooms</th>\n",
       "      <th>square_ft_area</th>\n",
       "      <th>tax_value</th>\n",
       "      <th>year_built</th>\n",
       "      <th>tax_amount</th>\n",
       "      <th>fips</th>\n",
       "    </tr>\n",
       "  </thead>\n",
       "  <tbody>\n",
       "    <tr>\n",
       "      <th>10057</th>\n",
       "      <td>4.0</td>\n",
       "      <td>2.0</td>\n",
       "      <td>1561.0</td>\n",
       "      <td>248240.0</td>\n",
       "      <td>1973.0</td>\n",
       "      <td>2504.40</td>\n",
       "      <td>6059.0</td>\n",
       "    </tr>\n",
       "    <tr>\n",
       "      <th>2004970</th>\n",
       "      <td>3.0</td>\n",
       "      <td>2.0</td>\n",
       "      <td>1770.0</td>\n",
       "      <td>88390.0</td>\n",
       "      <td>1960.0</td>\n",
       "      <td>1671.93</td>\n",
       "      <td>6037.0</td>\n",
       "    </tr>\n",
       "    <tr>\n",
       "      <th>306031</th>\n",
       "      <td>2.0</td>\n",
       "      <td>1.0</td>\n",
       "      <td>1452.0</td>\n",
       "      <td>81169.0</td>\n",
       "      <td>1946.0</td>\n",
       "      <td>1310.88</td>\n",
       "      <td>6037.0</td>\n",
       "    </tr>\n",
       "    <tr>\n",
       "      <th>1038595</th>\n",
       "      <td>3.0</td>\n",
       "      <td>1.0</td>\n",
       "      <td>1000.0</td>\n",
       "      <td>119174.0</td>\n",
       "      <td>1950.0</td>\n",
       "      <td>1900.28</td>\n",
       "      <td>6037.0</td>\n",
       "    </tr>\n",
       "    <tr>\n",
       "      <th>270959</th>\n",
       "      <td>3.0</td>\n",
       "      <td>2.0</td>\n",
       "      <td>1974.0</td>\n",
       "      <td>432268.0</td>\n",
       "      <td>1988.0</td>\n",
       "      <td>5315.27</td>\n",
       "      <td>6037.0</td>\n",
       "    </tr>\n",
       "  </tbody>\n",
       "</table>\n",
       "</div>"
      ],
      "text/plain": [
       "         bedrooms  bathrooms  square_ft_area  tax_value  year_built  \\\n",
       "10057         4.0        2.0          1561.0   248240.0      1973.0   \n",
       "2004970       3.0        2.0          1770.0    88390.0      1960.0   \n",
       "306031        2.0        1.0          1452.0    81169.0      1946.0   \n",
       "1038595       3.0        1.0          1000.0   119174.0      1950.0   \n",
       "270959        3.0        2.0          1974.0   432268.0      1988.0   \n",
       "\n",
       "         tax_amount    fips  \n",
       "10057       2504.40  6059.0  \n",
       "2004970     1671.93  6037.0  \n",
       "306031      1310.88  6037.0  \n",
       "1038595     1900.28  6037.0  \n",
       "270959      5315.27  6037.0  "
      ]
     },
     "execution_count": 10,
     "metadata": {},
     "output_type": "execute_result"
    }
   ],
   "source": [
    "train, validate, test = wrangle.wrangle_zillow(df)\n",
    "train.head()"
   ]
  },
  {
   "cell_type": "markdown",
   "metadata": {},
   "source": [
    "Apply the scalers we talked about in this lesson to your data and visualize the results for the unscaled and scaled distribution .\n"
   ]
  },
  {
   "cell_type": "code",
   "execution_count": 14,
   "metadata": {},
   "outputs": [],
   "source": [
    "def visualize_scaler(scaler, df, target_columns, bins=10):\n",
    "    fig, axs = plt.subplots(len(target_columns), 2, figsize=(16, 9))\n",
    "    df_scaled = df.copy()\n",
    "    df_scaled[target_columns] = scaler.fit_transform(df[target_columns])\n",
    "    for (ax1, ax2), col in zip(axs, target_columns):\n",
    "        ax1.hist(df[col], bins=bins)\n",
    "        ax1.set(title=f'{col} before scaling', xlabel=col, ylabel='count')\n",
    "        ax2.hist(df_scaled[col], bins=bins)\n",
    "        ax2.set(title=f'{col} after scaling with {scaler.__class__.__name__}', xlabel=col, ylabel='count')\n",
    "    plt.tight_layout()\n",
    "    return fig, axs"
   ]
  },
  {
   "cell_type": "code",
   "execution_count": 16,
   "metadata": {},
   "outputs": [
    {
     "data": {
      "text/plain": [
       "(<Figure size 1152x648 with 6 Axes>,\n",
       " array([[<AxesSubplot:title={'center':'bedrooms before scaling'}, xlabel='bedrooms', ylabel='count'>,\n",
       "         <AxesSubplot:title={'center':'bedrooms after scaling with MinMaxScaler'}, xlabel='bedrooms', ylabel='count'>],\n",
       "        [<AxesSubplot:title={'center':'square_ft_area before scaling'}, xlabel='square_ft_area', ylabel='count'>,\n",
       "         <AxesSubplot:title={'center':'square_ft_area after scaling with MinMaxScaler'}, xlabel='square_ft_area', ylabel='count'>],\n",
       "        [<AxesSubplot:title={'center':'tax_value before scaling'}, xlabel='tax_value', ylabel='count'>,\n",
       "         <AxesSubplot:title={'center':'tax_value after scaling with MinMaxScaler'}, xlabel='tax_value', ylabel='count'>]],\n",
       "       dtype=object))"
      ]
     },
     "execution_count": 16,
     "metadata": {},
     "output_type": "execute_result"
    },
    {
     "data": {
      "image/png": "[encoded data removed]",
      "text/plain": [
       "<Figure size 1152x648 with 6 Axes>"
      ]
     },
     "metadata": {
      "needs_background": "light"
     },
     "output_type": "display_data"
    }
   ],
   "source": [
    "visualize_scaler(\n",
    "    scaler=MinMaxScaler(),\n",
    "    df=train,\n",
    "    target_columns=['bedrooms', 'square_ft_area', 'tax_value'],\n",
    ")"
   ]
  },
  {
   "cell_type": "code",
   "execution_count": 17,
   "metadata": {},
   "outputs": [
    {
     "data": {
      "text/plain": [
       "(<Figure size 1152x648 with 4 Axes>,\n",
       " array([[<AxesSubplot:title={'center':'bedrooms before scaling'}, xlabel='bedrooms', ylabel='count'>,\n",
       "         <AxesSubplot:title={'center':'bedrooms after scaling with QuantileTransformer'}, xlabel='bedrooms', ylabel='count'>],\n",
       "        [<AxesSubplot:title={'center':'tax_value before scaling'}, xlabel='tax_value', ylabel='count'>,\n",
       "         <AxesSubplot:title={'center':'tax_value after scaling with QuantileTransformer'}, xlabel='tax_value', ylabel='count'>]],\n",
       "       dtype=object))"
      ]
     },
     "execution_count": 17,
     "metadata": {},
     "output_type": "execute_result"
    },
    {
     "data": {
      "image/png": "[encoded data removed]",
      "text/plain": [
       "<Figure size 1152x648 with 4 Axes>"
      ]
     },
     "metadata": {
      "needs_background": "light"
     },
     "output_type": "display_data"
    }
   ],
   "source": [
    "visualize_scaler(\n",
    "    scaler=QuantileTransformer(output_distribution='normal'),\n",
    "    df=train,\n",
    "    target_columns=['bedrooms', 'tax_value'],\n",
    "    bins=20,\n",
    ")"
   ]
  },
  {
   "cell_type": "markdown",
   "metadata": {},
   "source": [
    "Apply the .inverse_transform method to your scaled data. Is the resulting dataset the exact same as the original data?"
   ]
  },
  {
   "cell_type": "code",
   "execution_count": 18,
   "metadata": {},
   "outputs": [
    {
     "data": {
      "text/plain": [
       "tax_value    False\n",
       "dtype: bool"
      ]
     },
     "execution_count": 18,
     "metadata": {},
     "output_type": "execute_result"
    }
   ],
   "source": [
    "#inverse scaler\n",
    "scaler = MinMaxScaler()\n",
    "original_data = train[['tax_value']]\n",
    "scaled_data = scaler.fit_transform(original_data)\n",
    "\n",
    "(scaler.inverse_transform(scaled_data) == original_data).all()\n",
    "# np.isclose(scaler.inverse_transform(scaled_data), original_data).all()"
   ]
  },
  {
   "cell_type": "markdown",
   "metadata": {},
   "source": [
    "Read the documentation for sklearn's QuantileTransformer. Use normal for the output_distribution and apply this scaler to your data. Visualize the result of your data scaling.\n"
   ]
  },
  {
   "cell_type": "markdown",
   "metadata": {},
   "source": [
    "Use the QuantileTransformer, but omit the output_distribution argument. Visualize your results. What do you notice?\n"
   ]
  },
  {
   "cell_type": "markdown",
   "metadata": {},
   "source": [
    "Based on the work you've done, choose a scaling method for your dataset. Write a function within your prepare.py that accepts as input the train, validate, and test data splits, and returns the scaled versions of each. Be sure to only learn the parameters for scaling from your training data!"
   ]
  }
 ],
 "metadata": {
  "interpreter": {
   "hash": "38cca0c38332a56087b24af0bc80247f4fced29cb4f7f437d91dc159adec9c4e"
  },
  "kernelspec": {
   "display_name": "Python 3.9.7 ('base')",
   "language": "python",
   "name": "python3"
  },
  "language_info": {
   "codemirror_mode": {
    "name": "ipython",
    "version": 3
   },
   "file_extension": ".py",
   "mimetype": "text/x-python",
   "name": "python",
   "nbconvert_exporter": "python",
   "pygments_lexer": "ipython3",
   "version": "3.9.7"
  },
  "orig_nbformat": 4
 },
 "nbformat": 4,
 "nbformat_minor": 2
}

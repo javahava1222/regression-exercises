{
 "cells": [
  {
   "cell_type": "markdown",
   "metadata": {},
   "source": [
    "Do your work for these exercises in a jupyter notebook named scaling. Use the zillow dataset you acquired and prepped in previous lesson. Once you are finished, you may wish to repeat the exercises on another dataset for additional practice.\n"
   ]
  },
  {
   "cell_type": "markdown",
   "metadata": {},
   "source": [
    "Apply the scalers we talked about in this lesson to your data and visualize the results for the unscaled and scaled distribution .\n",
    "Apply the .inverse_transform method to your scaled data. Is the resulting dataset the exact same as the original data?\n",
    "Read the documentation for sklearn's QuantileTransformer. Use normal for the output_distribution and apply this scaler to your data. Visualize the result of your data scaling.\n"
   ]
  },
  {
   "cell_type": "code",
   "execution_count": 6,
   "metadata": {},
   "outputs": [],
   "source": [
    "import pandas as pd\n",
    "import numpy as np\n",
    "import matplotlib.pyplot as plt\n",
    "import seaborn as sns\n",
    "\n",
    "from sklearn.preprocessing import MinMaxScaler, StandardScaler, RobustScaler, QuantileTransformer\n",
    "\n",
    "import wrangle"
   ]
  },
  {
   "cell_type": "code",
   "execution_count": 2,
   "metadata": {},
   "outputs": [],
   "source": [
    "df = wrangle.acquire_zillow()"
   ]
  },
  {
   "cell_type": "code",
   "execution_count": 13,
   "metadata": {},
   "outputs": [
    {
     "name": "stderr",
     "output_type": "stream",
     "text": [
      "/opt/homebrew/anaconda3/lib/python3.9/site-packages/pandas/core/internals/construction.py:540: VisibleDeprecationWarning: Creating an ndarray from ragged nested sequences (which is a list-or-tuple of lists-or-tuples-or ndarrays with different lengths or shapes) is deprecated. If you meant to do this, you must specify 'dtype=object' when creating the ndarray.\n",
      "  values = np.array([convert(v) for v in values])\n"
     ]
    },
    {
     "data": {
      "text/plain": [
       "(         bedrooms  bathrooms  square_ft_area  tax_value  year_built  \\\n",
       " 10057         4.0        2.0          1561.0   248240.0      1973.0   \n",
       " 2004970       3.0        2.0          1770.0    88390.0      1960.0   \n",
       " 306031        2.0        1.0          1452.0    81169.0      1946.0   \n",
       " 1038595       3.0        1.0          1000.0   119174.0      1950.0   \n",
       " 270959        3.0        2.0          1974.0   432268.0      1988.0   \n",
       " ...           ...        ...             ...        ...         ...   \n",
       " 991122        3.0        1.0          1199.0   280857.0      1951.0   \n",
       " 1707759       4.0        2.0          1859.0    95008.0      1961.0   \n",
       " 1770246       3.0        3.0          2132.0   158470.0      1980.0   \n",
       " 1500741       2.0        1.0           780.0   477167.0      1955.0   \n",
       " 843328        3.0        1.0          1132.0   285700.0      1916.0   \n",
       " \n",
       "          tax_amount    fips  \n",
       " 10057       2504.40  6059.0  \n",
       " 2004970     1671.93  6037.0  \n",
       " 306031      1310.88  6037.0  \n",
       " 1038595     1900.28  6037.0  \n",
       " 270959      5315.27  6037.0  \n",
       " ...             ...     ...  \n",
       " 991122      3282.40  6111.0  \n",
       " 1707759     1463.61  6037.0  \n",
       " 1770246     2037.38  6037.0  \n",
       " 1500741     6509.69  6037.0  \n",
       " 843328      3563.75  6037.0  \n",
       " \n",
       " [1038959 rows x 7 columns],\n",
       "          bedrooms  bathrooms  square_ft_area  tax_value  year_built  \\\n",
       " 1214919       3.0        2.0          1727.0    73516.0      1964.0   \n",
       " 1799488       2.0        1.0          1516.0   408323.0      1947.0   \n",
       " 1799140       3.0        2.0          1550.0   219939.0      1947.0   \n",
       " 1099916       3.0        2.0          1075.0   308588.0      1957.0   \n",
       " 1534223       3.0        2.0          1548.0   181994.0      1949.0   \n",
       " ...           ...        ...             ...        ...         ...   \n",
       " 1471549       3.0        1.0          1142.0   359690.0      1949.0   \n",
       " 1622462       2.0        1.0           743.0    63342.0      1949.0   \n",
       " 1242183       2.0        1.0           756.0   390086.0      1925.0   \n",
       " 179210        3.0        2.0          1368.0   203456.0      1959.0   \n",
       " 123227        4.0        3.0          2296.0   312067.0      1964.0   \n",
       " \n",
       "          tax_amount    fips  \n",
       " 1214919     1147.78  6059.0  \n",
       " 1799488     4510.02  6037.0  \n",
       " 1799140     2684.01  6037.0  \n",
       " 1099916     3863.43  6037.0  \n",
       " 1534223     2359.42  6037.0  \n",
       " ...             ...     ...  \n",
       " 1471549     4249.59  6037.0  \n",
       " 1622462     1160.00  6037.0  \n",
       " 1242183     4777.33  6037.0  \n",
       " 179210      2713.49  6037.0  \n",
       " 123227      4230.81  6037.0  \n",
       " \n",
       " [445269 rows x 7 columns],\n",
       "          bedrooms  bathrooms  square_ft_area  tax_value  year_built  \\\n",
       " 443606        4.0        3.0          2942.0   268686.0      1996.0   \n",
       " 1815877       2.0        2.0          1841.0    60013.0      1948.0   \n",
       " 1127429       2.0        1.0           896.0   278696.0      1923.0   \n",
       " 1328382       2.0        2.0          1329.0   324951.0      1941.0   \n",
       " 674079        3.0        1.0           888.0    40954.0      1951.0   \n",
       " ...           ...        ...             ...        ...         ...   \n",
       " 1758365       2.0        1.0          1227.0    32666.0      1911.0   \n",
       " 1176149       4.0        2.0          1755.0   174459.0      1993.0   \n",
       " 671604        3.0        2.0          1508.0   458789.0      1957.0   \n",
       " 1009469       3.0        2.0          1758.0   363730.0      1980.0   \n",
       " 394156        4.0        2.0          1568.0   381637.0      1947.0   \n",
       " \n",
       "          tax_amount    fips  \n",
       " 443606      4235.22  6037.0  \n",
       " 1815877      974.35  6037.0  \n",
       " 1127429     3455.76  6059.0  \n",
       " 1328382     4039.14  6037.0  \n",
       " 674079       818.99  6037.0  \n",
       " ...             ...     ...  \n",
       " 1758365      475.00  6037.0  \n",
       " 1176149     3038.30  6037.0  \n",
       " 671604      5566.22  6037.0  \n",
       " 1009469     4884.94  6059.0  \n",
       " 394156      4970.74  6037.0  \n",
       " \n",
       " [371057 rows x 7 columns])"
      ]
     },
     "execution_count": 13,
     "metadata": {},
     "output_type": "execute_result"
    }
   ],
   "source": [
    "pd.DataFrame(df)\n",
    "df"
   ]
  },
  {
   "cell_type": "code",
   "execution_count": 7,
   "metadata": {},
   "outputs": [
    {
     "ename": "TypeError",
     "evalue": "tuple indices must be integers or slices, not str",
     "output_type": "error",
     "traceback": [
      "\u001b[0;31m---------------------------------------------------------------------------\u001b[0m",
      "\u001b[0;31mTypeError\u001b[0m                                 Traceback (most recent call last)",
      "\u001b[0;32m/var/folders/s2/b51sj28n53v8l4709q1p8p4c0000gn/T/ipykernel_59084/1780455964.py\u001b[0m in \u001b[0;36m<module>\u001b[0;34m\u001b[0m\n\u001b[0;32m----> 1\u001b[0;31m \u001b[0mtrain\u001b[0m\u001b[0;34m,\u001b[0m \u001b[0mvalidate\u001b[0m\u001b[0;34m,\u001b[0m \u001b[0mtest\u001b[0m \u001b[0;34m=\u001b[0m \u001b[0mwrangle\u001b[0m\u001b[0;34m.\u001b[0m\u001b[0mwrangle_zillow\u001b[0m\u001b[0;34m(\u001b[0m\u001b[0mdf\u001b[0m\u001b[0;34m)\u001b[0m\u001b[0;34m\u001b[0m\u001b[0;34m\u001b[0m\u001b[0m\n\u001b[0m",
      "\u001b[0;32m~/codeup-data-science/regression-exercises/wrangle.py\u001b[0m in \u001b[0;36mwrangle_zillow\u001b[0;34m(df)\u001b[0m\n\u001b[1;32m     52\u001b[0m     \u001b[0;34m''' Prepare zillow dataset '''\u001b[0m\u001b[0;34m\u001b[0m\u001b[0;34m\u001b[0m\u001b[0m\n\u001b[1;32m     53\u001b[0m \u001b[0;34m\u001b[0m\u001b[0m\n\u001b[0;32m---> 54\u001b[0;31m     \u001b[0mdf\u001b[0m \u001b[0;34m=\u001b[0m \u001b[0mremove_outliers\u001b[0m\u001b[0;34m(\u001b[0m\u001b[0mdf\u001b[0m\u001b[0;34m,\u001b[0m \u001b[0;36m1.5\u001b[0m\u001b[0;34m,\u001b[0m \u001b[0;34m[\u001b[0m\u001b[0;34m'bedrooms'\u001b[0m\u001b[0;34m,\u001b[0m \u001b[0;34m'bathrooms'\u001b[0m\u001b[0;34m,\u001b[0m \u001b[0;34m'square_ft_area'\u001b[0m\u001b[0;34m,\u001b[0m \u001b[0;34m'tax_value'\u001b[0m\u001b[0;34m,\u001b[0m \u001b[0;34m'tax_amount'\u001b[0m\u001b[0;34m]\u001b[0m\u001b[0;34m)\u001b[0m\u001b[0;34m\u001b[0m\u001b[0;34m\u001b[0m\u001b[0m\n\u001b[0m\u001b[1;32m     55\u001b[0m \u001b[0;34m\u001b[0m\u001b[0m\n\u001b[1;32m     56\u001b[0m     \u001b[0mdf\u001b[0m\u001b[0;34m.\u001b[0m\u001b[0mfips\u001b[0m \u001b[0;34m=\u001b[0m \u001b[0mdf\u001b[0m\u001b[0;34m.\u001b[0m\u001b[0mfips\u001b[0m\u001b[0;34m.\u001b[0m\u001b[0mastype\u001b[0m\u001b[0;34m(\u001b[0m\u001b[0mobject\u001b[0m\u001b[0;34m)\u001b[0m\u001b[0;34m\u001b[0m\u001b[0;34m\u001b[0m\u001b[0m\n",
      "\u001b[0;32m~/codeup-data-science/regression-exercises/wrangle.py\u001b[0m in \u001b[0;36mremove_outliers\u001b[0;34m(df, k, col_list)\u001b[0m\n\u001b[1;32m     37\u001b[0m     \u001b[0;32mfor\u001b[0m \u001b[0mcol\u001b[0m \u001b[0;32min\u001b[0m \u001b[0mcol_list\u001b[0m\u001b[0;34m:\u001b[0m\u001b[0;34m\u001b[0m\u001b[0;34m\u001b[0m\u001b[0m\n\u001b[1;32m     38\u001b[0m \u001b[0;34m\u001b[0m\u001b[0m\n\u001b[0;32m---> 39\u001b[0;31m         \u001b[0mq1\u001b[0m\u001b[0;34m,\u001b[0m \u001b[0mq3\u001b[0m \u001b[0;34m=\u001b[0m \u001b[0mdf\u001b[0m\u001b[0;34m[\u001b[0m\u001b[0mcol\u001b[0m\u001b[0;34m]\u001b[0m\u001b[0;34m.\u001b[0m\u001b[0mquantile\u001b[0m\u001b[0;34m(\u001b[0m\u001b[0;34m[\u001b[0m\u001b[0;36m0.25\u001b[0m\u001b[0;34m,\u001b[0m \u001b[0;36m0.75\u001b[0m\u001b[0;34m]\u001b[0m\u001b[0;34m)\u001b[0m\u001b[0;34m\u001b[0m\u001b[0;34m\u001b[0m\u001b[0m\n\u001b[0m\u001b[1;32m     40\u001b[0m \u001b[0;34m\u001b[0m\u001b[0m\n\u001b[1;32m     41\u001b[0m         \u001b[0miqr\u001b[0m \u001b[0;34m=\u001b[0m \u001b[0mq3\u001b[0m \u001b[0;34m-\u001b[0m \u001b[0mq1\u001b[0m\u001b[0;34m\u001b[0m\u001b[0;34m\u001b[0m\u001b[0m\n",
      "\u001b[0;31mTypeError\u001b[0m: tuple indices must be integers or slices, not str"
     ]
    }
   ],
   "source": [
    "train, validate, test = wrangle.wrangle_zillow(df)"
   ]
  },
  {
   "cell_type": "markdown",
   "metadata": {},
   "source": [
    "Use the QuantileTransformer, but omit the output_distribution argument. Visualize your results. What do you notice?\n",
    "Based on the work you've done, choose a scaling method for your dataset. Write a function within your prepare.py that accepts as input the train, validate, and test data splits, and returns the scaled versions of each. Be sure to only learn the parameters for scaling from your training data!"
   ]
  }
 ],
 "metadata": {
  "interpreter": {
   "hash": "38cca0c38332a56087b24af0bc80247f4fced29cb4f7f437d91dc159adec9c4e"
  },
  "kernelspec": {
   "display_name": "Python 3.9.7 ('base')",
   "language": "python",
   "name": "python3"
  },
  "language_info": {
   "codemirror_mode": {
    "name": "ipython",
    "version": 3
   },
   "file_extension": ".py",
   "mimetype": "text/x-python",
   "name": "python",
   "nbconvert_exporter": "python",
   "pygments_lexer": "ipython3",
   "version": "3.9.7"
  },
  "orig_nbformat": 4
 },
 "nbformat": 4,
 "nbformat_minor": 2
}

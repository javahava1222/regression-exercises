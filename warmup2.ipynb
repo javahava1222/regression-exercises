{
 "cells": [
  {
   "cell_type": "code",
   "execution_count": null,
   "id": "70f264e5",
   "metadata": {},
   "outputs": [],
   "source": [
    "import pandas as pd\n",
    "\n",
    "df = pd.read_csv('https://raw.githubusercontent.com/zgulde/tidytuesday/master/data/2022/2022-02-01/breed_traits.csv')"
   ]
  },
  {
   "cell_type": "code",
   "execution_count": 2,
   "id": "16846a82",
   "metadata": {},
   "outputs": [
    {
     "data": {
      "text/html": [
       "<div>\n",
       "<style scoped>\n",
       "    .dataframe tbody tr th:only-of-type {\n",
       "        vertical-align: middle;\n",
       "    }\n",
       "\n",
       "    .dataframe tbody tr th {\n",
       "        vertical-align: top;\n",
       "    }\n",
       "\n",
       "    .dataframe thead th {\n",
       "        text-align: right;\n",
       "    }\n",
       "</style>\n",
       "<table border=\"1\" class=\"dataframe\">\n",
       "  <thead>\n",
       "    <tr style=\"text-align: right;\">\n",
       "      <th></th>\n",
       "      <th>Breed</th>\n",
       "      <th>Affectionate With Family</th>\n",
       "      <th>Good With Young Children</th>\n",
       "      <th>Good With Other Dogs</th>\n",
       "      <th>Shedding Level</th>\n",
       "      <th>Coat Grooming Frequency</th>\n",
       "      <th>Drooling Level</th>\n",
       "      <th>Coat Type</th>\n",
       "      <th>Coat Length</th>\n",
       "      <th>Openness To Strangers</th>\n",
       "      <th>Playfulness Level</th>\n",
       "      <th>Watchdog/Protective Nature</th>\n",
       "      <th>Adaptability Level</th>\n",
       "      <th>Trainability Level</th>\n",
       "      <th>Energy Level</th>\n",
       "      <th>Barking Level</th>\n",
       "      <th>Mental Stimulation Needs</th>\n",
       "    </tr>\n",
       "  </thead>\n",
       "  <tbody>\n",
       "    <tr>\n",
       "      <th>0</th>\n",
       "      <td>Retrievers (Labrador)</td>\n",
       "      <td>5</td>\n",
       "      <td>5</td>\n",
       "      <td>5</td>\n",
       "      <td>4</td>\n",
       "      <td>2</td>\n",
       "      <td>2</td>\n",
       "      <td>Double</td>\n",
       "      <td>Short</td>\n",
       "      <td>5</td>\n",
       "      <td>5</td>\n",
       "      <td>3</td>\n",
       "      <td>5</td>\n",
       "      <td>5</td>\n",
       "      <td>5</td>\n",
       "      <td>3</td>\n",
       "      <td>4</td>\n",
       "    </tr>\n",
       "    <tr>\n",
       "      <th>1</th>\n",
       "      <td>French Bulldogs</td>\n",
       "      <td>5</td>\n",
       "      <td>5</td>\n",
       "      <td>4</td>\n",
       "      <td>3</td>\n",
       "      <td>1</td>\n",
       "      <td>3</td>\n",
       "      <td>Smooth</td>\n",
       "      <td>Short</td>\n",
       "      <td>5</td>\n",
       "      <td>5</td>\n",
       "      <td>3</td>\n",
       "      <td>5</td>\n",
       "      <td>4</td>\n",
       "      <td>3</td>\n",
       "      <td>1</td>\n",
       "      <td>3</td>\n",
       "    </tr>\n",
       "    <tr>\n",
       "      <th>2</th>\n",
       "      <td>German Shepherd Dogs</td>\n",
       "      <td>5</td>\n",
       "      <td>5</td>\n",
       "      <td>3</td>\n",
       "      <td>4</td>\n",
       "      <td>2</td>\n",
       "      <td>2</td>\n",
       "      <td>Double</td>\n",
       "      <td>Medium</td>\n",
       "      <td>3</td>\n",
       "      <td>4</td>\n",
       "      <td>5</td>\n",
       "      <td>5</td>\n",
       "      <td>5</td>\n",
       "      <td>5</td>\n",
       "      <td>3</td>\n",
       "      <td>5</td>\n",
       "    </tr>\n",
       "    <tr>\n",
       "      <th>3</th>\n",
       "      <td>Retrievers (Golden)</td>\n",
       "      <td>5</td>\n",
       "      <td>5</td>\n",
       "      <td>5</td>\n",
       "      <td>4</td>\n",
       "      <td>2</td>\n",
       "      <td>2</td>\n",
       "      <td>Double</td>\n",
       "      <td>Medium</td>\n",
       "      <td>5</td>\n",
       "      <td>4</td>\n",
       "      <td>3</td>\n",
       "      <td>5</td>\n",
       "      <td>5</td>\n",
       "      <td>3</td>\n",
       "      <td>1</td>\n",
       "      <td>4</td>\n",
       "    </tr>\n",
       "    <tr>\n",
       "      <th>4</th>\n",
       "      <td>Bulldogs</td>\n",
       "      <td>4</td>\n",
       "      <td>3</td>\n",
       "      <td>3</td>\n",
       "      <td>3</td>\n",
       "      <td>3</td>\n",
       "      <td>3</td>\n",
       "      <td>Smooth</td>\n",
       "      <td>Short</td>\n",
       "      <td>4</td>\n",
       "      <td>4</td>\n",
       "      <td>3</td>\n",
       "      <td>3</td>\n",
       "      <td>4</td>\n",
       "      <td>3</td>\n",
       "      <td>2</td>\n",
       "      <td>3</td>\n",
       "    </tr>\n",
       "    <tr>\n",
       "      <th>...</th>\n",
       "      <td>...</td>\n",
       "      <td>...</td>\n",
       "      <td>...</td>\n",
       "      <td>...</td>\n",
       "      <td>...</td>\n",
       "      <td>...</td>\n",
       "      <td>...</td>\n",
       "      <td>...</td>\n",
       "      <td>...</td>\n",
       "      <td>...</td>\n",
       "      <td>...</td>\n",
       "      <td>...</td>\n",
       "      <td>...</td>\n",
       "      <td>...</td>\n",
       "      <td>...</td>\n",
       "      <td>...</td>\n",
       "      <td>...</td>\n",
       "    </tr>\n",
       "    <tr>\n",
       "      <th>190</th>\n",
       "      <td>Cesky Terriers</td>\n",
       "      <td>4</td>\n",
       "      <td>5</td>\n",
       "      <td>3</td>\n",
       "      <td>2</td>\n",
       "      <td>2</td>\n",
       "      <td>1</td>\n",
       "      <td>Wavy</td>\n",
       "      <td>Medium</td>\n",
       "      <td>4</td>\n",
       "      <td>3</td>\n",
       "      <td>3</td>\n",
       "      <td>4</td>\n",
       "      <td>3</td>\n",
       "      <td>3</td>\n",
       "      <td>3</td>\n",
       "      <td>3</td>\n",
       "    </tr>\n",
       "    <tr>\n",
       "      <th>191</th>\n",
       "      <td>American Foxhounds</td>\n",
       "      <td>3</td>\n",
       "      <td>5</td>\n",
       "      <td>5</td>\n",
       "      <td>3</td>\n",
       "      <td>1</td>\n",
       "      <td>1</td>\n",
       "      <td>Smooth</td>\n",
       "      <td>Short</td>\n",
       "      <td>3</td>\n",
       "      <td>3</td>\n",
       "      <td>3</td>\n",
       "      <td>3</td>\n",
       "      <td>3</td>\n",
       "      <td>4</td>\n",
       "      <td>5</td>\n",
       "      <td>3</td>\n",
       "    </tr>\n",
       "    <tr>\n",
       "      <th>192</th>\n",
       "      <td>Azawakhs</td>\n",
       "      <td>3</td>\n",
       "      <td>3</td>\n",
       "      <td>3</td>\n",
       "      <td>2</td>\n",
       "      <td>2</td>\n",
       "      <td>1</td>\n",
       "      <td>Smooth</td>\n",
       "      <td>Short</td>\n",
       "      <td>1</td>\n",
       "      <td>3</td>\n",
       "      <td>3</td>\n",
       "      <td>3</td>\n",
       "      <td>2</td>\n",
       "      <td>3</td>\n",
       "      <td>1</td>\n",
       "      <td>3</td>\n",
       "    </tr>\n",
       "    <tr>\n",
       "      <th>193</th>\n",
       "      <td>English Foxhounds</td>\n",
       "      <td>5</td>\n",
       "      <td>5</td>\n",
       "      <td>5</td>\n",
       "      <td>3</td>\n",
       "      <td>1</td>\n",
       "      <td>2</td>\n",
       "      <td>Double</td>\n",
       "      <td>Short</td>\n",
       "      <td>4</td>\n",
       "      <td>4</td>\n",
       "      <td>3</td>\n",
       "      <td>4</td>\n",
       "      <td>4</td>\n",
       "      <td>4</td>\n",
       "      <td>5</td>\n",
       "      <td>4</td>\n",
       "    </tr>\n",
       "    <tr>\n",
       "      <th>194</th>\n",
       "      <td>Norwegian Lundehunds</td>\n",
       "      <td>3</td>\n",
       "      <td>3</td>\n",
       "      <td>3</td>\n",
       "      <td>3</td>\n",
       "      <td>2</td>\n",
       "      <td>1</td>\n",
       "      <td>Double</td>\n",
       "      <td>Short</td>\n",
       "      <td>3</td>\n",
       "      <td>3</td>\n",
       "      <td>3</td>\n",
       "      <td>3</td>\n",
       "      <td>3</td>\n",
       "      <td>3</td>\n",
       "      <td>3</td>\n",
       "      <td>3</td>\n",
       "    </tr>\n",
       "  </tbody>\n",
       "</table>\n",
       "<p>195 rows × 17 columns</p>\n",
       "</div>"
      ],
      "text/plain": [
       "                     Breed  Affectionate With Family  \\\n",
       "0    Retrievers (Labrador)                         5   \n",
       "1          French Bulldogs                         5   \n",
       "2     German Shepherd Dogs                         5   \n",
       "3      Retrievers (Golden)                         5   \n",
       "4                 Bulldogs                         4   \n",
       "..                     ...                       ...   \n",
       "190         Cesky Terriers                         4   \n",
       "191     American Foxhounds                         3   \n",
       "192               Azawakhs                         3   \n",
       "193      English Foxhounds                         5   \n",
       "194   Norwegian Lundehunds                         3   \n",
       "\n",
       "     Good With Young Children  Good With Other Dogs  Shedding Level  \\\n",
       "0                           5                     5               4   \n",
       "1                           5                     4               3   \n",
       "2                           5                     3               4   \n",
       "3                           5                     5               4   \n",
       "4                           3                     3               3   \n",
       "..                        ...                   ...             ...   \n",
       "190                         5                     3               2   \n",
       "191                         5                     5               3   \n",
       "192                         3                     3               2   \n",
       "193                         5                     5               3   \n",
       "194                         3                     3               3   \n",
       "\n",
       "     Coat Grooming Frequency  Drooling Level Coat Type Coat Length  \\\n",
       "0                          2               2    Double       Short   \n",
       "1                          1               3    Smooth       Short   \n",
       "2                          2               2    Double      Medium   \n",
       "3                          2               2    Double      Medium   \n",
       "4                          3               3    Smooth       Short   \n",
       "..                       ...             ...       ...         ...   \n",
       "190                        2               1      Wavy      Medium   \n",
       "191                        1               1    Smooth       Short   \n",
       "192                        2               1    Smooth       Short   \n",
       "193                        1               2    Double       Short   \n",
       "194                        2               1    Double       Short   \n",
       "\n",
       "     Openness To Strangers  Playfulness Level  Watchdog/Protective Nature  \\\n",
       "0                        5                  5                           3   \n",
       "1                        5                  5                           3   \n",
       "2                        3                  4                           5   \n",
       "3                        5                  4                           3   \n",
       "4                        4                  4                           3   \n",
       "..                     ...                ...                         ...   \n",
       "190                      4                  3                           3   \n",
       "191                      3                  3                           3   \n",
       "192                      1                  3                           3   \n",
       "193                      4                  4                           3   \n",
       "194                      3                  3                           3   \n",
       "\n",
       "     Adaptability Level  Trainability Level  Energy Level  Barking Level  \\\n",
       "0                     5                   5             5              3   \n",
       "1                     5                   4             3              1   \n",
       "2                     5                   5             5              3   \n",
       "3                     5                   5             3              1   \n",
       "4                     3                   4             3              2   \n",
       "..                  ...                 ...           ...            ...   \n",
       "190                   4                   3             3              3   \n",
       "191                   3                   3             4              5   \n",
       "192                   3                   2             3              1   \n",
       "193                   4                   4             4              5   \n",
       "194                   3                   3             3              3   \n",
       "\n",
       "     Mental Stimulation Needs  \n",
       "0                           4  \n",
       "1                           3  \n",
       "2                           5  \n",
       "3                           4  \n",
       "4                           3  \n",
       "..                        ...  \n",
       "190                         3  \n",
       "191                         3  \n",
       "192                         3  \n",
       "193                         4  \n",
       "194                         3  \n",
       "\n",
       "[195 rows x 17 columns]"
      ]
     },
     "execution_count": 2,
     "metadata": {},
     "output_type": "execute_result"
    }
   ],
   "source": [
    "df"
   ]
  },
  {
   "cell_type": "markdown",
   "id": "5daad97e-3690-4d06-a295-2de4eb3a6e28",
   "metadata": {},
   "source": [
    "This dataset contains information on different dog breeds. Answer the following questions:\n",
    "\n",
    "- How many breeds have an energy level of 5? `35`\n"
   ]
  },
  {
   "cell_type": "code",
   "execution_count": 7,
   "id": "a9dd4999",
   "metadata": {},
   "outputs": [
    {
     "data": {
      "text/plain": [
       "35"
      ]
     },
     "execution_count": 7,
     "metadata": {},
     "output_type": "execute_result"
    }
   ],
   "source": [
    "(df['Energy Level'] == 5).sum()"
   ]
  },
  {
   "cell_type": "code",
   "execution_count": 4,
   "id": "40b4e062",
   "metadata": {},
   "outputs": [
    {
     "data": {
      "text/plain": [
       "Index(['Breed', 'Affectionate With Family', 'Good With Young Children',\n",
       "       'Good With Other Dogs', 'Shedding Level', 'Coat Grooming Frequency',\n",
       "       'Drooling Level', 'Coat Type', 'Coat Length', 'Openness To Strangers',\n",
       "       'Playfulness Level', 'Watchdog/Protective Nature', 'Adaptability Level',\n",
       "       'Trainability Level', 'Energy Level', 'Barking Level',\n",
       "       'Mental Stimulation Needs'],\n",
       "      dtype='object')"
      ]
     },
     "execution_count": 4,
     "metadata": {},
     "output_type": "execute_result"
    }
   ],
   "source": [
    "df.columns"
   ]
  },
  {
   "cell_type": "markdown",
   "id": "fb97b265",
   "metadata": {},
   "source": [
    "- How many different coat types are there? `10`"
   ]
  },
  {
   "cell_type": "code",
   "execution_count": 8,
   "id": "ae55c291",
   "metadata": {},
   "outputs": [
    {
     "data": {
      "text/plain": [
       "10"
      ]
     },
     "execution_count": 8,
     "metadata": {},
     "output_type": "execute_result"
    }
   ],
   "source": [
    "df['Coat Type'].nunique()"
   ]
  },
  {
   "cell_type": "markdown",
   "id": "f1221cbc",
   "metadata": {},
   "source": [
    "- What is the average drooling level of breeds with a long coat length? `1.483`"
   ]
  },
  {
   "cell_type": "code",
   "execution_count": 9,
   "id": "797663a4",
   "metadata": {},
   "outputs": [
    {
     "data": {
      "text/plain": [
       "1.4827586206896552"
      ]
     },
     "execution_count": 9,
     "metadata": {},
     "output_type": "execute_result"
    }
   ],
   "source": [
    "(df[df['Coat Length'] == 'Long'])['Drooling Level'].mean()"
   ]
  },
  {
   "cell_type": "code",
   "execution_count": 43,
   "id": "5a34add1",
   "metadata": {},
   "outputs": [
    {
     "data": {
      "text/plain": [
       "1.4827586206896552"
      ]
     },
     "execution_count": 43,
     "metadata": {},
     "output_type": "execute_result"
    }
   ],
   "source": [
    "df.loc[df['Coat Length'] == 'Long', 'Drooling Level'].mean()"
   ]
  },
  {
   "cell_type": "markdown",
   "id": "8b7bdb8c",
   "metadata": {},
   "source": [
    "- What is the barking level of Anatolian Shepherd Dogs? `3`"
   ]
  },
  {
   "cell_type": "code",
   "execution_count": 42,
   "id": "5043bafe",
   "metadata": {},
   "outputs": [
    {
     "data": {
      "text/plain": [
       "84    3\n",
       "Name: Barking Level, dtype: int64"
      ]
     },
     "execution_count": 42,
     "metadata": {},
     "output_type": "execute_result"
    }
   ],
   "source": [
    "# df[df.Breed == 'Anatolian Shepherd Dogs']\n",
    "df[df.Breed.str.startswith('Anatolian')]['Barking Level']"
   ]
  },
  {
   "cell_type": "markdown",
   "id": "3398ae1d",
   "metadata": {},
   "source": [
    "- How many breeds have a smooth coat type, a short coat length, and a playfulness level of 3? `27`\n"
   ]
  },
  {
   "cell_type": "code",
   "execution_count": 36,
   "id": "6586c68c",
   "metadata": {},
   "outputs": [
    {
     "name": "stderr",
     "output_type": "stream",
     "text": [
      "/var/folders/s2/b51sj28n53v8l4709q1p8p4c0000gn/T/ipykernel_21442/1006240433.py:1: UserWarning: Boolean Series key will be reindexed to match DataFrame index.\n",
      "  (df[df['Coat Type'] == 'Smooth'][df['Coat Length'] == 'Short'][df['Playfulness Level'] == 3]).shape[0]\n"
     ]
    },
    {
     "data": {
      "text/plain": [
       "27"
      ]
     },
     "execution_count": 36,
     "metadata": {},
     "output_type": "execute_result"
    }
   ],
   "source": [
    "(df[df['Coat Type'] == 'Smooth'][df['Coat Length'] == 'Short'][df['Playfulness Level'] == 3]).shape[0]"
   ]
  },
  {
   "cell_type": "markdown",
   "id": "0184b072",
   "metadata": {},
   "source": [
    "- What percentage of breeds fall into each value of adaptability level? Make a visualization like the one below showing this"
   ]
  },
  {
   "cell_type": "code",
   "execution_count": 47,
   "id": "1f6646b4",
   "metadata": {},
   "outputs": [
    {
     "data": {
      "text/plain": [
       "0      1\n",
       "1     27\n",
       "2     41\n",
       "3    109\n",
       "4     16\n",
       "5      1\n",
       "Name: Shedding Level, dtype: int64"
      ]
     },
     "execution_count": 47,
     "metadata": {},
     "output_type": "execute_result"
    }
   ],
   "source": [
    "shedding_level = df['Shedding Level'].value_counts().sort_index()\n",
    "shedding_level"
   ]
  },
  {
   "cell_type": "code",
   "execution_count": 46,
   "id": "5f9a63a8",
   "metadata": {},
   "outputs": [
    {
     "data": {
      "text/plain": [
       "0    0.005128\n",
       "1    0.138462\n",
       "2    0.210256\n",
       "3    0.558974\n",
       "4    0.082051\n",
       "5    0.005128\n",
       "Name: Shedding Level, dtype: float64"
      ]
     },
     "execution_count": 46,
     "metadata": {},
     "output_type": "execute_result"
    }
   ],
   "source": [
    "shedding_level/shedding_level.sum()"
   ]
  },
  {
   "cell_type": "code",
   "execution_count": 53,
   "id": "ef896dae",
   "metadata": {},
   "outputs": [
    {
     "data": {
      "image/png": "[encoded data removed]",
      "text/plain": [
       "<Figure size 504x216 with 1 Axes>"
      ]
     },
     "metadata": {
      "needs_background": "light"
     },
     "output_type": "display_data"
    }
   ],
   "source": [
    "import matplotlib.pyplot as plt\n",
    "\n",
    "shedding_level.plot.bar(\n",
    "    width=.9,\n",
    "    ec='black',\n",
    "    fc='white',\n",
    "    figsize=(7, 3),\n",
    "    title= 'Shedding Level Distribution',\n",
    "    ylabel= 'Number of Breeds',\n",
    "    xlabel= 'Shedding Level'\n",
    ")\n",
    "plt.xticks(rotation=0)\n",
    "plt.show()"
   ]
  },
  {
   "attachments": {
    "805baeb8-a81a-4f98-8aa5-7769c38791fb.png": {
     "image/png": "[encoded data removed]"
    }
   },
   "cell_type": "markdown",
   "id": "49a426a3-aba0-44de-8dff-0c05e36e6df9",
   "metadata": {},
   "source": [
    "![image.png](attachment:805baeb8-a81a-4f98-8aa5-7769c38791fb.png)"
   ]
  }
 ],
 "metadata": {
  "kernelspec": {
   "display_name": "Python 3",
   "language": "python",
   "name": "python3"
  },
  "language_info": {
   "codemirror_mode": {
    "name": "ipython",
    "version": 3
   },
   "file_extension": ".py",
   "mimetype": "text/x-python",
   "name": "python",
   "nbconvert_exporter": "python",
   "pygments_lexer": "ipython3",
   "version": "3.9.7"
  }
 },
 "nbformat": 4,
 "nbformat_minor": 5
}
